from re import X
import tensorflow as tf
from tensorflow import keras
import pandas as pd
import numpy as np
import matplotlib.pyplot as plt
import random
fmnist=tf.keras.datasets.fashion_mnist
(x_train,y_train),(x_test,y_test)=fmnist.load_data()
len(x_train)
len(y_train)
len(x_test)
len(y_test)
x_train.shape
x_test.shape
x_train[0]
plt.matshow(x_train[0])
x_train=x_train/255
x_test=x_test/255
x_train[0]
model=keras.Sequential([
keras.layers.Flatten(input_shape = (28,28)),
keras.layers.Dense(128,activation = 'relu'),
keras.layers.Dense(20,activation = 'softmax')    
])
model.summary()
    
model.compile(loss='sparse_categorical_crossentropy', optimizer='sgd', metrics=['accuracy'])
history=model.fit(x_train,y_train,validation_data=(x_test,y_test),epochs=10)
test_loss,test_acc=model.evaluate(x_test,y_test)
print("Loss=%.3f" %test_loss)
print("Accuracy=%.3f" %test_acc)
n=random.randint(0,9999)
plt.imshow(x_test[n])
plt.show()
predicted_value=model.predict(x_test)
print("Image is =%d" %np.argmax(predicted_value[0]))

history.history.keys()
plt.plot(history.history['accuracy'])
plt.plot(history.history['val_accuracy'])
plt.plot(history.history['loss'])
plt.plot(history.history['val_loss'])
plt.title('Training Loss & Accuracy')
plt.ylabel('accuracy/loss')
plt.xlabel('epoch')
plt.legend(['loss','accuracy','val_loss','val_accuracy'])
plt.show()
