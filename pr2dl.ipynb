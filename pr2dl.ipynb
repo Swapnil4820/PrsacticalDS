import pandas as pd
import numpy as np
import matplotlib.pyplot as plt
import random

from sklearn.metrics import accuracy_score
from tensorflow.keras.models import Sequential
from tensorflow.keras.optimizers import SGD
from tensorflow.keras.utils import to_categorical
from keras.utils import to_categorical
from tensorflow.keras.datasets import mnist
tf.keras.layers.serialize
tf.keras.utils.CustomObjectScope
tf.keras.utils.register_keras_serializable
mnist=tf.keras.datasets.mnist
(x_train,y_train),(x_test,y_test)=mnist.load_data()
len(x_train)
len(y_train)
len(x_test)
len(y_test)
x_train.shape
x_test.shape
x_train[0]
plt.matshow(x_train[0])
x_train=x_train/255
x_test=x_test/255
x_train[0]
import keras
model=keras.Sequential([
    keras.layers.Flatten(input_shape = (28,28)),
    keras.layers.Dense(128,activation ='relu'),
    keras.layers.Dense(10,activation = 'softmax')
])
model.summary()
model.compile(loss='sparse_categorical_crossentropy', optimizer='sgd', metrics=['accuracy'])
history=model.fit(x_train,y_train,validation_data=(x_test,y_test),epochs=10)
test_loss,test_acc=model.evaluate(x_test,y_test)
print("loss=%.3f" %test_loss)
print("Accuracy=%.3f" %test_acc)
n=random.randint(0,9999)
plt.imshow(x_test[n])
plt.show()
predicted_value=model.predict(x_test)
print("Handwritten number is = %d" %np.argmax(predicted_value[n]))
history.history.keys()
plt.plot(history.history['accuracy'])
plt.plot(history.history['val_accuracy'])
plt.plot(history.history['loss'])
plt.plot(history.history['val_loss'])
plt.title('Training Loss & Accuracy')
plt.ylabel('accuracy/loss')
plt.xlabel('epoch')
plt.legend(['loss','accuracy','val_loss','val_accuracy'])
plt.show() 
